{
 "cells": [
  {
   "cell_type": "markdown",
   "metadata": {},
   "source": [
    "## Main Idea ##\n",
    "Make data visualizations of gun violence and gun control in the US. An MVP would be one of the following maps: a map that shows the amount and location of gun violence in the US, a map showing gun control support, a map showing overall strictness of gun laws, a political party map, or a map with mass shooting points. However, we would ideally like to do more than one of these in order to see interesting trends."
   ]
  },
  {
   "cell_type": "markdown",
   "metadata": {},
   "source": [
    "## Learning Goals ##\n",
    "Emily: wants to learn how to visualize data in an aesthetically pleasing way.\n",
    "\n",
    "Maya: also wants to learn how to visualize date and how to use GitHub\n",
    "\n",
    "Libraries: plotly, matplotlib, based off what data we find we may need to change what libraries we want to use."
   ]
  },
  {
   "cell_type": "markdown",
   "metadata": {},
   "source": [
    "## Mid-project Checkin ##\n",
    "- Gather data sets for analysis\n",
    "- Identify the appropriate libraries and download them \n",
    "- Tentative plan to have one graph working"
   ]
  },
  {
   "cell_type": "markdown",
   "metadata": {},
   "source": [
    "## Risks ##\n",
    "We chose the less scaffolded option even though neither of us are really confident in our python ability."
   ]
  }
 ],
 "metadata": {
  "kernelspec": {
   "display_name": "Python 3",
   "language": "python",
   "name": "python3"
  },
  "language_info": {
   "codemirror_mode": {
    "name": "ipython",
    "version": 3
   },
   "file_extension": ".py",
   "mimetype": "text/x-python",
   "name": "python",
   "nbconvert_exporter": "python",
   "pygments_lexer": "ipython3",
   "version": "3.6.3"
  }
 },
 "nbformat": 4,
 "nbformat_minor": 2
}
