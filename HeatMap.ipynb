{
 "cells": [
  {
   "cell_type": "code",
   "execution_count": 4,
   "metadata": {},
   "outputs": [],
   "source": [
    "import plotly.plotly as py\n",
    "import pandas as pd\n",
    "\n",
    "\n",
    "\n",
    "gd = pd.read_csv('gun_death_data.csv')\n"
   ]
  },
  {
   "cell_type": "code",
   "execution_count": 5,
   "metadata": {
    "scrolled": true
   },
   "outputs": [
    {
     "name": "stdout",
     "output_type": "stream",
     "text": [
      "             State  Rate per 100,000 \n",
      "0              NaN                NaN\n",
      "1          Alabama              17.79\n",
      "2           Alaska              19.59\n",
      "3          Arizona              14.20\n",
      "4         Arkansas              16.93\n",
      "5       California               7.89\n",
      "6         Colorado              11.75\n",
      "7      Connecticut               4.48\n",
      "8         Delaware              10.80\n",
      "9          Florida              12.49\n",
      "10         Georgia              12.63\n",
      "11          Hawaii               2.71\n",
      "12           Idaho              14.08\n",
      "13        Illinois               8.67\n",
      "14         Indiana              13.04\n",
      "15            Iowa               8.19\n",
      "16          Kansas              11.44\n",
      "17        Kentucky              14.15\n",
      "18       Louisiana              19.15\n",
      "19           Maine              11.89\n",
      "20        Maryland               9.75\n",
      "21   Massachusetts               3.18\n",
      "22        Michigan              12.03\n",
      "23       Minnesota               7.88\n",
      "24     Mississippi              17.55\n",
      "25        Missouri              14.56\n",
      "26         Montana              16.94\n",
      "27        Nebraska               8.99\n",
      "28          Nevada              14.16\n",
      "29   New Hampshire               7.03\n",
      "30      New Jersey               5.69\n",
      "31      New Mexico              15.63\n",
      "32        New York               4.39\n",
      "33  North Carolina              12.42\n",
      "34    North Dakota              11.89\n",
      "35            Ohio              11.14\n",
      "36        Oklahoma              16.41\n",
      "37          Oregon              11.76\n",
      "38    Pennsylvania              11.36\n",
      "39    Rhode Island               5.33\n",
      "40  South Carolina              15.60\n",
      "41    South Dakota               9.47\n",
      "42       Tennessee              15.86\n",
      "43           Texas              10.50\n",
      "44            Utah              11.69\n",
      "45         Vermont              10.37\n",
      "46        Virginia              10.46\n",
      "47      Washington               9.07\n",
      "48   West Virginia              15.10\n",
      "49       Wisconsin               9.93\n",
      "50         Wyoming              17.51\n"
     ]
    }
   ],
   "source": [
    "print(gd)"
   ]
  },
  {
   "cell_type": "code",
   "execution_count": 19,
   "metadata": {},
   "outputs": [],
   "source": [
    "colors = [\"rgb(0,116,217)\",\"rgb(255,65,54)\",\"rgb(133,20,75)\",\"rgb(255,133,27)\",\"lightgrey\"]"
   ]
  },
  {
   "cell_type": "code",
   "execution_count": 20,
   "metadata": {
    "collapsed": true
   },
   "outputs": [],
   "source": [
    "limits = [(0,3), (3.1, 8.5), (8.6,12), (12.1, 15.5),(15.6, 20)]\n"
   ]
  },
  {
   "cell_type": "code",
   "execution_count": 31,
   "metadata": {},
   "outputs": [
    {
     "ename": "IndexError",
     "evalue": "tuple index out of range",
     "output_type": "error",
     "traceback": [
      "\u001b[0;31m---------------------------------------------------------------------------\u001b[0m",
      "\u001b[0;31mIndexError\u001b[0m                                Traceback (most recent call last)",
      "\u001b[0;32m<ipython-input-31-d750fa851ca9>\u001b[0m in \u001b[0;36m<module>\u001b[0;34m()\u001b[0m\n\u001b[1;32m     16\u001b[0m \u001b[0;31m#         name = '{0} - {1}'.format(lim[0],lim[1]) )\u001b[0m\u001b[0;34m\u001b[0m\u001b[0;34m\u001b[0m\u001b[0m\n\u001b[1;32m     17\u001b[0m \u001b[0;31m#     cities.append(city)\u001b[0m\u001b[0;34m\u001b[0m\u001b[0;34m\u001b[0m\u001b[0m\n\u001b[0;32m---> 18\u001b[0;31m \u001b[0mgd_sub\u001b[0m \u001b[0;34m=\u001b[0m \u001b[0mgd\u001b[0m\u001b[0;34m[\u001b[0m\u001b[0mlim\u001b[0m\u001b[0;34m[\u001b[0m\u001b[0;36m0\u001b[0m\u001b[0;34m]\u001b[0m\u001b[0;34m:\u001b[0m\u001b[0mlim\u001b[0m\u001b[0;34m[\u001b[0m\u001b[0;36m5\u001b[0m\u001b[0;34m]\u001b[0m\u001b[0;34m]\u001b[0m\u001b[0;34m\u001b[0m\u001b[0m\n\u001b[0m\u001b[1;32m     19\u001b[0m \u001b[0mgd_sub\u001b[0m\u001b[0;34m\u001b[0m\u001b[0m\n",
      "\u001b[0;31mIndexError\u001b[0m: tuple index out of range"
     ]
    }
   ],
   "source": [
    "# cities = []\n",
    "# scale = 5000\n",
    "# for i in range(len(limits)):\n",
    "#     lim = limits[i]\n",
    "#     gd_sub = gd[lim[0]:lim[1]]\n",
    "#     city = dict(\n",
    "#         type = 'scattergeo',\n",
    "#         locationmode = 'USA-states',\n",
    "        \n",
    "#         marker = dict(\n",
    "#             size = gd_sub['pop']/scale,\n",
    "#             color = colors[i],\n",
    "#             line = dict(width=0.5, color='rgb(40,40,40)'),\n",
    "#             sizemode = 'area'\n",
    "#         ),\n",
    "#         name = '{0} - {1}'.format(lim[0],lim[1]) )\n",
    "#     cities.append(city)\n",
    "gd_sub = gd[lim[0]:lim[5]]\n",
    "gd_sub\n"
   ]
  },
  {
   "cell_type": "code",
   "execution_count": null,
   "metadata": {
    "collapsed": true
   },
   "outputs": [],
   "source": []
  }
 ],
 "metadata": {
  "kernelspec": {
   "display_name": "Python 3",
   "language": "python",
   "name": "python3"
  },
  "language_info": {
   "codemirror_mode": {
    "name": "ipython",
    "version": 3
   },
   "file_extension": ".py",
   "mimetype": "text/x-python",
   "name": "python",
   "nbconvert_exporter": "python",
   "pygments_lexer": "ipython3",
   "version": "3.6.3"
  }
 },
 "nbformat": 4,
 "nbformat_minor": 2
}
